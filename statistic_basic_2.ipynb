{
 "cells": [
  {
   "cell_type": "markdown",
   "id": "83d2bcc8-60e4-410e-ab33-9243354c8dfa",
   "metadata": {},
   "source": [
    "quation 1"
   ]
  },
  {
   "cell_type": "markdown",
   "id": "b00a12f6-1cea-46e8-96f9-251e46ae7ca7",
   "metadata": {},
   "source": [
    "1)mean: mean is the average of the data\n",
    "2)Median: it is the middle value of the data set\n",
    "3)Mode: it is the most freqent number is data set"
   ]
  },
  {
   "cell_type": "markdown",
   "id": "ad9287f5-81b4-428e-9e2f-0de40e2e172e",
   "metadata": {},
   "source": [
    "quation 2"
   ]
  },
  {
   "cell_type": "markdown",
   "id": "2b3bdf31-c7ec-45a5-9052-e3e94843a1e3",
   "metadata": {},
   "source": [
    "mean: 1)it also known as average of the data.\n",
    "      2)the mean is calculated by adding up all the values in a dataset and dividing by the number of value.\n",
    "      3)it is sensitive to extream value and provides a balenced represntation of the data\n",
    "    \n",
    "Median: 1)the middle value of the dataset when it is sorted in ascending or descending order.\n",
    "        2)if there is even number of value the meadian is the average of two middle value.\n",
    "        3)the meadian is less affected by extrem value.\n",
    "        \n",
    "Mode: 1)the mode is the value that appears most frequently in a dataset.\n",
    "      2)the mode is particularly useful for categorical data.\n",
    "      3)a dataset may have one mode(unimodal),more than one mode(multimodal),or no mode if all value occure with same\n",
    "      frequency.\n",
    "      \n",
    "these measure of central tendency of a dataset,providing insights into its typical or representative value\n",
    "      "
   ]
  },
  {
   "cell_type": "markdown",
   "id": "6cf4cc7e-0c47-448e-851e-1b1363d80d35",
   "metadata": {},
   "source": [
    "quation 3"
   ]
  },
  {
   "cell_type": "code",
   "execution_count": 1,
   "id": "aef24a70-adf9-45b2-b6ce-0156849488d9",
   "metadata": {},
   "outputs": [],
   "source": [
    "h=[178,177,176,177,178.2,178,175,179,180,175,178.9,176.2,177,172.5,178,176.5]"
   ]
  },
  {
   "cell_type": "code",
   "execution_count": 3,
   "id": "02d695b1-9c32-415a-9ddb-2022ada24891",
   "metadata": {},
   "outputs": [],
   "source": [
    "import numpy as np\n"
   ]
  },
  {
   "cell_type": "code",
   "execution_count": 9,
   "id": "9eac87aa-8e8e-4793-b287-dd22bf69b9dc",
   "metadata": {},
   "outputs": [],
   "source": [
    "# mean:\n",
    "np.mean(h)\n",
    "\n",
    "#Meadian:\n",
    "np.median(h)\n",
    "# Mode:\n",
    "from scipy.stats import mode\n",
    "mode(h)"
   ]
  },
  {
   "cell_type": "markdown",
   "id": "4195937c-88e3-4eb7-80dd-e7c1b890028e",
   "metadata": {},
   "source": [
    "quation 4"
   ]
  },
  {
   "cell_type": "code",
   "execution_count": 10,
   "id": "eff579f8-9858-4c74-8d7f-3ba7ddf102bc",
   "metadata": {},
   "outputs": [],
   "source": [
    "data=[178,177,176,177,178.2,178,175,179,180,175,178.9,176.2,177,172.5,178,176.5]"
   ]
  },
  {
   "cell_type": "code",
   "execution_count": 11,
   "id": "531d137f-6987-4606-a935-4f93a61d2362",
   "metadata": {},
   "outputs": [
    {
     "data": {
      "text/plain": [
       "1.7885814036548633"
      ]
     },
     "execution_count": 11,
     "metadata": {},
     "output_type": "execute_result"
    }
   ],
   "source": [
    "np.std(data)"
   ]
  },
  {
   "cell_type": "markdown",
   "id": "7f1eee53-3624-4546-8aaa-5acdaf647e23",
   "metadata": {},
   "source": [
    "quation 5:"
   ]
  },
  {
   "cell_type": "markdown",
   "id": "ce4f8246-f8e1-410a-93c9-bc868ba7d340",
   "metadata": {},
   "source": [
    "range: 1)range is the differnce between the maximum and minimum value in a dataset.\n",
    "       2)it provide a simple measure of how widely the value are spread.\n",
    "       3)ex-if you have a set of test score ranging from 60 to 90 the range is 30.\n",
    "       \n",
    "variance: 1)variance is the average of the squared differnce from the mean.\n",
    "          2) it give more detailed picture of how individual value deviate from the mean\n",
    "          3) ex- if you have threee test score 80,85,90 the variance is calculated as\n",
    "          [(80-85)^2+ (85-85)^2(+90-85)^2]/3\n",
    "          \n",
    "Standard Deviation: 1) standard deviation is the square root of the variance .\n",
    "                    2)it measure the average distance between each data point and mean \n",
    "          "
   ]
  },
  {
   "cell_type": "markdown",
   "id": "4e766c46-6de8-4809-b39a-3555a10c4672",
   "metadata": {},
   "source": [
    "quation 6"
   ]
  },
  {
   "cell_type": "markdown",
   "id": "0c69cd97-4a27-4c0b-ba9c-38030c70746a",
   "metadata": {},
   "source": [
    "a venn diagram is a visual represntation and illustrates the relationship and commonalities between differnt set or groups.\n",
    "it consist of overlapping circles,each representing a set,with the overlapping area indicating the element that are common to those sets\n"
   ]
  },
  {
   "cell_type": "markdown",
   "id": "8b39141f-b20f-4fda-af18-9075aea5dbe9",
   "metadata": {},
   "source": [
    "quation 7"
   ]
  },
  {
   "cell_type": "markdown",
   "id": "f03676f4-2c1c-4da0-8ec3-28566283dafd",
   "metadata": {},
   "source": [
    "A = (2,3,4,5,6,7) & B = (0,2,6,8,10)\n",
    "i)ans:{2,6}\n",
    "\n",
    "ii)ans:{2,3,4,5,6,7,8,10}"
   ]
  },
  {
   "cell_type": "markdown",
   "id": "7cdf90b3-e879-449c-baad-3d4ebcb274e6",
   "metadata": {},
   "source": [
    "quation 8:"
   ]
  },
  {
   "cell_type": "markdown",
   "id": "08cdf3b3-0b17-444c-80a9-2cc7648866d3",
   "metadata": {},
   "source": [
    "1)skewness is a statistical measure that desribes the asymmetry or lack of symmetry in a distribution of data.\n",
    "2)in a parfectly symmetrical distribution the left and right sides are mirror images of each other.\n",
    "3)a skewness value of 0 indicate the perfectly symmetrical distribution.\n",
    "4)a positive skewness value indicate right skewness \n",
    "5)a negative skewness value indicate left skewness"
   ]
  },
  {
   "cell_type": "markdown",
   "id": "d6e5a865-1322-4bc5-851b-03ade9b91f69",
   "metadata": {},
   "source": [
    "quation 9"
   ]
  },
  {
   "cell_type": "markdown",
   "id": "1e5a4212-5e81-474e-ab75-9088b7395aab",
   "metadata": {},
   "source": [
    "In a right-skewed distribution (positively skewed), the tail on the right side of the distribution is longer, indicating the presence of relatively few high values that pull the mean in that direction. In such a case:\n",
    "\n",
    "The mean will be greater than the median.\n",
    "This is because the mean is influenced by extreme values in the longer right tail, and these high values shift the mean towards that tail. The median, being the middle value, is less affected by extreme values, so it tends to be closer to the center of the distribution."
   ]
  },
  {
   "cell_type": "markdown",
   "id": "04b1b5b6-d5de-4816-a2af-673bb9ffc570",
   "metadata": {},
   "source": [
    "quation 10"
   ]
  },
  {
   "cell_type": "markdown",
   "id": "14ba5d02-24c4-428c-9536-cb22786de541",
   "metadata": {},
   "source": [
    "co-variance:\n",
    "    1) we can find the relation between x and y between positive and negative value\n",
    "    2) it is not fixed ranged between the value it can go any longer\n",
    "    3) the value of covariance is positive indicate the x and y is directly propositional\n",
    "    4) the value of covariance is negative indicate the x and y is inversly prpositional.\n",
    "       it means if value of x is increasing then value of y is decreasing\n",
    "       \n",
    "correlation:\n",
    "    1) it is also used to find relation between dataset.\n",
    "    2) it is fixed range between the -1 to +1.\n",
    "    3) more the value toward +1 the more positively correlated\n",
    "    4) t more to the value towards -1 the more negatively correlated"
   ]
  },
  {
   "cell_type": "markdown",
   "id": "5489ecc6-a2a6-445f-89eb-a93125bd6a6c",
   "metadata": {},
   "source": [
    "quation 11)"
   ]
  },
  {
   "cell_type": "markdown",
   "id": "6a680cb4-84d7-446f-9987-addf74919841",
   "metadata": {},
   "source": [
    "for calculating the sample mean the formula is adding up all the values in a dataset and dividing by the number of value.\n",
    "\n",
    "for example: we have 5 value of height dataset: 155.5,159,175,165,180\n",
    "\n",
    "Mean=(155.5+159+175+165+180)/5\n",
    "Mean=166.9\n",
    "it means 166.9 is the average height in the sample dataset"
   ]
  },
  {
   "cell_type": "markdown",
   "id": "d9c454c9-9ac7-4c7c-8a0e-0ed9c71c5290",
   "metadata": {},
   "source": [
    "quation 12)"
   ]
  },
  {
   "cell_type": "markdown",
   "id": "37e2f583-6895-44d2-a367-54d286061f93",
   "metadata": {},
   "source": [
    "For a normal distribution data the measure of central tendency sitting in the center of the normal distribution"
   ]
  },
  {
   "cell_type": "markdown",
   "id": "d8ac969e-4517-43e7-ab03-460120d42fdd",
   "metadata": {},
   "source": [
    "quation 13)"
   ]
  },
  {
   "cell_type": "markdown",
   "id": "e2faebaa-9118-4667-90fd-003b46b8dba3",
   "metadata": {},
   "source": [
    "the value of covariance is go any longer, meanse it can go positive infinity to negative infinity but in correlation\n",
    "tha value can go in a specific range the range is -1 to +1 \n"
   ]
  },
  {
   "cell_type": "markdown",
   "id": "ca71faa6-113d-498c-91ad-fe20a8144463",
   "metadata": {},
   "source": [
    "quation 14)"
   ]
  },
  {
   "cell_type": "markdown",
   "id": "3ea1ba62-a4df-439c-8fc9-7e27d1473dc8",
   "metadata": {},
   "source": [
    "when tha dataset contian the outlier then the data point deviate significantly from the rest of the data in a dataset"
   ]
  },
  {
   "cell_type": "code",
   "execution_count": null,
   "id": "37061ca9-d236-4813-bf11-3c6f79da9bb8",
   "metadata": {},
   "outputs": [],
   "source": []
  },
  {
   "cell_type": "code",
   "execution_count": null,
   "id": "129a3b82-3218-4b4c-bb40-83be3236f168",
   "metadata": {},
   "outputs": [],
   "source": []
  },
  {
   "cell_type": "code",
   "execution_count": null,
   "id": "57179ad6-265b-4d83-a127-4c979e7d99f8",
   "metadata": {},
   "outputs": [],
   "source": []
  },
  {
   "cell_type": "code",
   "execution_count": null,
   "id": "72a15ed4-ee5f-4e97-8717-a44a32837898",
   "metadata": {},
   "outputs": [],
   "source": []
  },
  {
   "cell_type": "code",
   "execution_count": null,
   "id": "323246e0-07cf-4b02-8094-32c865fb3eb8",
   "metadata": {},
   "outputs": [],
   "source": []
  },
  {
   "cell_type": "code",
   "execution_count": null,
   "id": "c2221805-27ab-4e82-bf06-ec3b3188c71c",
   "metadata": {},
   "outputs": [],
   "source": []
  },
  {
   "cell_type": "code",
   "execution_count": null,
   "id": "9af7e0a9-089d-4387-b608-c66d502af9eb",
   "metadata": {},
   "outputs": [],
   "source": []
  },
  {
   "cell_type": "code",
   "execution_count": null,
   "id": "2a6f27c9-7584-4597-ba75-bb52973fa500",
   "metadata": {},
   "outputs": [],
   "source": []
  }
 ],
 "metadata": {
  "kernelspec": {
   "display_name": "Python 3 (ipykernel)",
   "language": "python",
   "name": "python3"
  },
  "language_info": {
   "codemirror_mode": {
    "name": "ipython",
    "version": 3
   },
   "file_extension": ".py",
   "mimetype": "text/x-python",
   "name": "python",
   "nbconvert_exporter": "python",
   "pygments_lexer": "ipython3",
   "version": "3.10.8"
  }
 },
 "nbformat": 4,
 "nbformat_minor": 5
}
